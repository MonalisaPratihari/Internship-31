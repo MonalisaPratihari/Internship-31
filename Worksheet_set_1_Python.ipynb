{
 "cells": [
  {
   "cell_type": "code",
   "execution_count": 1,
   "id": "c9af4f39",
   "metadata": {},
   "outputs": [
    {
     "name": "stdout",
     "output_type": "stream",
     "text": [
      "Factorial of 4 is 24\n"
     ]
    }
   ],
   "source": [
    "# Question 11\n",
    "\n",
    "def factorial(n):\n",
    "    return 1 if (n==1 or n==0) else n* factorial(n-1);\n",
    "num=4\n",
    "print('Factorial of',4, 'is',\n",
    "     factorial(4))"
   ]
  },
  {
   "cell_type": "code",
   "execution_count": 2,
   "id": "21a2a76a",
   "metadata": {},
   "outputs": [
    {
     "name": "stdout",
     "output_type": "stream",
     "text": [
      "Enter number : 8\n",
      "8  => Composite Number\n"
     ]
    }
   ],
   "source": [
    "# Question 12\n",
    "\n",
    "number = int(input(\"Enter number : \"))\n",
    "if number == 0 or number == 1:\n",
    "    print(number,\" => Neither prime nor composite\")\n",
    "else:\n",
    "    for i in range(2,number):\n",
    "        if(number % i == 0):\n",
    "            print(number,\" => Composite Number\")\n",
    "            break\n",
    "    else:\n",
    "        print(number,\" => Prime Number\")"
   ]
  },
  {
   "cell_type": "code",
   "execution_count": 3,
   "id": "afdb7c8c",
   "metadata": {},
   "outputs": [
    {
     "name": "stdout",
     "output_type": "stream",
     "text": [
      "Yes\n"
     ]
    }
   ],
   "source": [
    "# Question 13\n",
    "\n",
    "def isPalindrome(s):\n",
    "    return s == s[::-1]\n",
    " \n",
    "s = \"mom\"\n",
    "ans = isPalindrome(s)\n",
    " \n",
    "if ans:\n",
    "    print(\"Yes\")\n",
    "else:\n",
    "    print(\"No\")\n"
   ]
  },
  {
   "cell_type": "code",
   "execution_count": 4,
   "id": "bb2275e5",
   "metadata": {},
   "outputs": [
    {
     "name": "stdout",
     "output_type": "stream",
     "text": [
      "Yes\n"
     ]
    }
   ],
   "source": [
    "# Question 13\n",
    "\n",
    "x = \"dad\"\n",
    " \n",
    "w = \"\"\n",
    "for i in x:\n",
    "    w = i + w\n",
    " \n",
    "if (x == w):\n",
    "    print(\"Yes\")\n",
    "else:\n",
    "    print(\"No\")"
   ]
  },
  {
   "cell_type": "code",
   "execution_count": 5,
   "id": "babd45c8",
   "metadata": {},
   "outputs": [
    {
     "name": "stdout",
     "output_type": "stream",
     "text": [
      "Enter base: 6\n",
      "Enter height: 8\n",
      "Enter angle: 90\n",
      "Hypotenuse = 10.0\n"
     ]
    }
   ],
   "source": [
    "# Question 14\n",
    "\n",
    "import math\n",
    "\n",
    "a = float(input(\"Enter base: \"))\n",
    "b = float(input(\"Enter height: \"))\n",
    "x = float(input(\"Enter angle: \"))\n",
    "\n",
    "c = math.sqrt(a ** 2 + b ** 2)\n",
    "\n",
    "print(\"Hypotenuse =\", c)"
   ]
  },
  {
   "cell_type": "code",
   "execution_count": 6,
   "id": "6be1a68e",
   "metadata": {},
   "outputs": [
    {
     "name": "stdout",
     "output_type": "stream",
     "text": [
      "{'M': 1, 'O': 1, 'N': 1, 'A': 4, 'L': 1, 'I': 3, 'S': 1, ' ': 1, 'P': 1, 'R': 2, 'T': 1, 'H': 1}\n"
     ]
    }
   ],
   "source": [
    "# Question 15\n",
    "\n",
    "str = \"MONALISA PRATIHARI\"\n",
    "\n",
    "dict = {}\n",
    "\n",
    "for i in str:\n",
    " \n",
    "    if i in dict:\n",
    "        dict[i] += 1\n",
    "\n",
    "    else:\n",
    "        dict[i] = 1\n",
    "\n",
    "print(dict)"
   ]
  },
  {
   "cell_type": "code",
   "execution_count": null,
   "id": "c420fbbc",
   "metadata": {},
   "outputs": [],
   "source": []
  },
  {
   "cell_type": "code",
   "execution_count": null,
   "id": "4eae618e",
   "metadata": {},
   "outputs": [],
   "source": []
  }
 ],
 "metadata": {
  "kernelspec": {
   "display_name": "Python 3 (ipykernel)",
   "language": "python",
   "name": "python3"
  },
  "language_info": {
   "codemirror_mode": {
    "name": "ipython",
    "version": 3
   },
   "file_extension": ".py",
   "mimetype": "text/x-python",
   "name": "python",
   "nbconvert_exporter": "python",
   "pygments_lexer": "ipython3",
   "version": "3.9.7"
  }
 },
 "nbformat": 4,
 "nbformat_minor": 5
}
